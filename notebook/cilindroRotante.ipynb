{
 "cells": [
  {
   "cell_type": "code",
   "execution_count": 2,
   "metadata": {},
   "outputs": [],
   "source": [
    "# Librerie necessarie\n",
    "import math\n",
    "import numpy as np\n",
    "from matplotlib import pyplot as plt\n",
    "from ipywidgets import interactive"
   ]
  },
  {
   "cell_type": "markdown",
   "metadata": {},
   "source": [
    "# Distribuzione di Pressione in un serbatoio rotante\n",
    "\n",
    "Per velocità di rotazione costante l'andamento delle superfici isobare è dato da\n",
    "\n",
    "$$\n",
    "z(r) = \\frac{\\omega^2 r^2}{2g} + h_0 - \\frac{omega^2 R^2}{4g}\n",
    "$$\n",
    "\n",
    "con $R$, raggio del recipiente, $h_0$ altezza di liquido a riposo ed $\\omega$ velocità di rotazione."
   ]
  },
  {
   "cell_type": "code",
   "execution_count": 31,
   "metadata": {},
   "outputs": [],
   "source": [
    "def superficie(omega: float, V: float):\n",
    "    \n",
    "    R = 1.              # assumo R=1\n",
    "    H = 6.              # assumo H=3\n",
    "    h0 = V/(math.pi)    # altezza iniaizle a riposo\n",
    "    g = 9.81            # \n",
    "\n",
    "    r = np.linspace(0, R, 20)\n",
    "\n",
    "    omega_lim = math.sqrt( (H - h0)*4*g/R**2  )\n",
    "\n",
    "    if (omega < omega_lim):\n",
    "        z = omega**2*r**2/2./g + h0 - omega**2*R**2/4./g\n",
    "\n",
    "    fig = plt.figure(1)\n",
    "    ax = fig.add_axes([0, 0, 1, 1])\n",
    "    ax.set_xlim([-R, R])\n",
    "    ax.set_ylim([0, H])\n",
    "    ax.plot(r, z, '-b')\n",
    "    ax.plot(-r, z, '-b')\n",
    "    ax.fill_between(r,z, color = 'blue')\n",
    "    ax.fill_between(-r,z, color = 'blue')\n",
    "    plt.show()\n",
    "\n",
    "    return z"
   ]
  },
  {
   "cell_type": "code",
   "execution_count": 32,
   "metadata": {},
   "outputs": [
    {
     "data": {
      "application/vnd.jupyter.widget-view+json": {
       "model_id": "667ffa8977f54eecb755c6e329f676e7",
       "version_major": 2,
       "version_minor": 0
      },
      "text/plain": [
       "interactive(children=(FloatSlider(value=5.05, description='omega', max=10.0, min=0.1), FloatSlider(value=5.1, …"
      ]
     },
     "execution_count": 32,
     "metadata": {},
     "output_type": "execute_result"
    }
   ],
   "source": [
    "w = interactive(superficie, omega = (0.1, 10.), V = (0.1, 10.1))\n",
    "w"
   ]
  }
 ],
 "metadata": {
  "kernelspec": {
   "display_name": "Python 3",
   "language": "python",
   "name": "python3"
  },
  "language_info": {
   "codemirror_mode": {
    "name": "ipython",
    "version": 3
   },
   "file_extension": ".py",
   "mimetype": "text/x-python",
   "name": "python",
   "nbconvert_exporter": "python",
   "pygments_lexer": "ipython3",
   "version": "3.11.6"
  }
 },
 "nbformat": 4,
 "nbformat_minor": 2
}
