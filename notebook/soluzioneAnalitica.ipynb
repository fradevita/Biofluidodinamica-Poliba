{
 "cells": [
  {
   "cell_type": "code",
   "execution_count": 1,
   "metadata": {},
   "outputs": [],
   "source": [
    "# Librerie necessarie\n",
    "import numpy as np\n",
    "from matplotlib import pyplot as plt\n",
    "from matplotlib import patches\n",
    "from ipywidgets import interactive"
   ]
  },
  {
   "cell_type": "markdown",
   "metadata": {},
   "source": [
    "# Soluzione Analitica dell'equazioni di Navier-Stokes per un flusso incomprimibile tra due lamine piane\n",
    "\n",
    "Considerando un flusso stazionario, incomprimibile ed unidirezionale (asse x) tra due lamine piane infinitamente estese (nella direzione z) poste ad una distanza *h* (nella direzione *y*), in assenza di forze di volume l'equazione della quantità di moto in direzione *x* assume la forma\n",
    "\n",
    "$$\n",
    "0 = -\\frac{dp}{dx} + \\mu\\frac{d^2 u}{dy^2}\n",
    "$$\n",
    "\n",
    "che integrata da la soluzione\n",
    "\n",
    "$$\n",
    "u(y) = \\frac{1}{2\\mu}\\frac{dp}{dx}\\left(y^2 - hy\\right) + U_s\\frac{y}{h} + U_i\n",
    "$$\n",
    "\n",
    "dove $U_s$ e $U_i$ sono la velocità della parete superiore ed inferiore, rispettivamente.\n",
    "Di seguito viene definita una funzione che calcola la soluzione analitica e la rappresenta in piano cartesiano con assi ($u$-$y$)."
   ]
  },
  {
   "cell_type": "code",
   "execution_count": 2,
   "metadata": {},
   "outputs": [],
   "source": [
    "def soluzioneAnalitica(dpdx, mu, Us, Ui, N):\n",
    "    '''\n",
    "        Calcola e rappresenta la soluzione analitica del flusso tra due lamine piane.\n",
    "\n",
    "        Parametri di input\n",
    "        dpdx: gradiente di pressione in x\n",
    "        mu: viscosità dinamica del fluido\n",
    "        Us: velocità della parete superiore\n",
    "        Ui: velocità della parete inferiore\n",
    "        N: risoluzione del profilo di velocità\n",
    "    '''\n",
    "    \n",
    "    h = 1                                             # assumo h = 1\n",
    "    y = np.linspace(0, h, N)                          # asse y\n",
    "    u = 0.5*dpdx*(y**2 - h*y)/mu + (Us - Ui)*y/h + Ui # soluzione analitica\n",
    "    \n",
    "    # Di seugito, si genera il grafico\n",
    "    fig = plt.figure(1)\n",
    "    \n",
    "    ax = fig.add_axes([0,0,1,1])\n",
    "    ax.set_xlabel(r'$u$')\n",
    "    ax.set_ylabel(r'$y$')\n",
    "    ax.set_title('Profilo verticale di velocità')\n",
    "\n",
    "    # Rappresentazione delle due lamine\n",
    "    Pi = patches.Rectangle((-0.5,-0.1), 1., 0.1, color = 'grey')\n",
    "    Ps = patches.Rectangle((-0.5, 1.0), 1., 0.1, color = 'grey')\n",
    "    ax.add_patch(Pi)\n",
    "    ax.add_patch(Ps)\n",
    "\n",
    "    # Grafico del profilo di velocità\n",
    "    ax.plot(u, y)\n",
    "    # Rappresentazione vettoriale\n",
    "    for i in range(0,N):\n",
    "        ax.arrow(0., y[i], u[i], 0., length_includes_head = True, \n",
    "              head_width = 0.05, head_length = 0.005)\n",
    "    \n",
    "    plt.show()\n",
    "\n",
    "    return y, u"
   ]
  },
  {
   "cell_type": "code",
   "execution_count": 3,
   "metadata": {},
   "outputs": [
    {
     "data": {
      "application/vnd.jupyter.widget-view+json": {
       "model_id": "1c66ed7f70ec48bc90a45c6000702471",
       "version_major": 2,
       "version_minor": 0
      },
      "text/plain": [
       "interactive(children=(FloatSlider(value=0.0, description='dpdx', max=30.0, min=-30.0), FloatSlider(value=5.0, …"
      ]
     },
     "execution_count": 3,
     "metadata": {},
     "output_type": "execute_result"
    }
   ],
   "source": [
    "w = interactive(soluzioneAnalitica, dpdx = (-30.,30.), mu = (0.,10.), Us = (-0.5,0.5), Ui = (-0.5,0.5), N = (0,100) )\n",
    "w"
   ]
  }
 ],
 "metadata": {
  "kernelspec": {
   "display_name": "Python 3",
   "language": "python",
   "name": "python3"
  },
  "language_info": {
   "codemirror_mode": {
    "name": "ipython",
    "version": 3
   },
   "file_extension": ".py",
   "mimetype": "text/x-python",
   "name": "python",
   "nbconvert_exporter": "python",
   "pygments_lexer": "ipython3",
   "version": "3.11.6"
  }
 },
 "nbformat": 4,
 "nbformat_minor": 2
}
