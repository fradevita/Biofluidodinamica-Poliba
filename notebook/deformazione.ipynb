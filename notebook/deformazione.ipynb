{
 "cells": [
  {
   "cell_type": "code",
   "execution_count": 40,
   "metadata": {},
   "outputs": [],
   "source": [
    "# Librerie necessarie\n",
    "import numpy as np\n",
    "from matplotlib import pyplot as plt\n",
    "from ipywidgets import interactive"
   ]
  },
  {
   "cell_type": "markdown",
   "metadata": {},
   "source": [
    "# Analisi del moto nell'intorno di un punto\n",
    "\n",
    "Usando un'espansione di Taylor al primo ordine, il moto nell'intorno di un punto è esprimibile come\n",
    "\n",
    "$$\n",
    "\\vec{u} = \\vec{u_0} + \\nabla \\vec{u} \\cdot \\left(\\vec{x} - \\vec{x_0}\\right)\n",
    "$$\n",
    "\n",
    "Di seguito si rappresenta un caso bidimensionale per visualizzare l'effetto dei termini del gradiente di velocità sul moto di un elemento fluido inizialmente rettangolare (di dimensioni $dx$ e $dy$)."
   ]
  },
  {
   "cell_type": "code",
   "execution_count": 41,
   "metadata": {},
   "outputs": [],
   "source": [
    "def deformazione(duxdx: float, duxdy: float, duydx: float, duydy: float):\n",
    "    '''\n",
    "        Calcola e rappresenta la deformazione di un elemento fluido\n",
    "\n",
    "        Parametri di input\n",
    "        duudx: self-exp\n",
    "        duxdy: self-exp\n",
    "        duydx: self-exp\n",
    "        duydy: self-exp\n",
    "    '''\n",
    "    \n",
    "    xa0 = np.array([0., 0.])\n",
    "    xb0 = np.array([1., 0.])\n",
    "    xc0 = np.array([0., 1.])\n",
    "    xd0 = np.array([1., 1.])\n",
    "    \n",
    "    # Velocità punto di riferimento\n",
    "    ua = np.array([0.0, 0.0])\n",
    "\n",
    "    # gradiente di velocità\n",
    "    gradU = np.array([[duxdx, duxdy], [duydx, duydy]])\n",
    "    \n",
    "    # Configurazione deformata\n",
    "\n",
    "    # Velocità dei nodi\n",
    "    ub = ua + np.matmul(gradU,np.transpose(xb0 - xa0))\n",
    "    uc = ua + np.matmul(gradU,np.transpose(xc0 - xa0))\n",
    "    ud = ua + np.matmul(gradU,np.transpose(xd0 - xa0))\n",
    "    \n",
    "    # Posizione dei nodi\n",
    "    dt = 0.1\n",
    "    xa = xa0 + ua*dt\n",
    "    xb = xb0 + ub*dt\n",
    "    xc = xc0 + uc*dt\n",
    "    xd = xd0 + ud*dt\n",
    "    \n",
    "    l1 = np.array([[xa[0], xa[1]], [xb[0], xb[1]]])\n",
    "    l2 = np.array([[xb[0], xb[1]], [xd[0], xd[1]]])\n",
    "    l3 = np.array([[xa[0], xa[1]], [xc[0], xc[1]]])\n",
    "    l4 = np.array([[xc[0], xc[1]], [xd[0], xd[1]]])\n",
    "    l5 = np.array([[xa[0], xa[1]], [xd[0], xd[1]]])\n",
    "\n",
    "    # Di seugito, si genera il grafico\n",
    "    fig = plt.figure(1)\n",
    "    ax = fig.add_axes([0,0,1,1])\n",
    "    ax.set_xlabel(r'$x/dx$')\n",
    "    ax.set_xlim([-1, 2])\n",
    "    ax.set_ylabel(r'$y/dy$')\n",
    "    ax.set_ylim([-1, 2])\n",
    "    ax.set_aspect('equal')\n",
    "    ax.set_title('Profilo verticale di velocità')\n",
    "    # Plot dei vertici\n",
    "    ax.plot(xa[0], xa[1], 'ok', markersize = 15)\n",
    "    ax.plot(xb[0], xb[1], 'ok', markersize = 15)\n",
    "    ax.plot(xc[0], xc[1], 'ok', markersize = 15)\n",
    "    ax.plot(xd[0], xd[1], 'ok', markersize = 15)\n",
    "    # Plot dei lati\n",
    "    ax.plot(l1[:,0], l1[:,1], '-k')\n",
    "    ax.plot(l2[:,0], l2[:,1], '-k')\n",
    "    ax.plot(l3[:,0], l3[:,1], '-k')\n",
    "    ax.plot(l4[:,0], l4[:,1], '-k')\n",
    "    ax.plot(l5[:,0], l5[:,1], '-r')\n",
    "    ax.grid()\n",
    "\n",
    "    plt.show()\n",
    "\n",
    "    return xa, xb, xc, xd"
   ]
  },
  {
   "cell_type": "code",
   "execution_count": 42,
   "metadata": {},
   "outputs": [
    {
     "data": {
      "application/vnd.jupyter.widget-view+json": {
       "model_id": "65142d7b3a624ecfbb0d635447fc59f9",
       "version_major": 2,
       "version_minor": 0
      },
      "text/plain": [
       "interactive(children=(FloatSlider(value=0.0, description='duxdx', max=1.0, min=-1.0), FloatSlider(value=0.0, d…"
      ]
     },
     "execution_count": 42,
     "metadata": {},
     "output_type": "execute_result"
    }
   ],
   "source": [
    "w = interactive(deformazione, duxdx = (-1.,1.), duxdy = (-1.,1.), duydx = (-1.,1.), duydy = (-1.,1.))\n",
    "w"
   ]
  }
 ],
 "metadata": {
  "kernelspec": {
   "display_name": "Python 3",
   "language": "python",
   "name": "python3"
  },
  "language_info": {
   "codemirror_mode": {
    "name": "ipython",
    "version": 3
   },
   "file_extension": ".py",
   "mimetype": "text/x-python",
   "name": "python",
   "nbconvert_exporter": "python",
   "pygments_lexer": "ipython3",
   "version": "3.11.6"
  }
 },
 "nbformat": 4,
 "nbformat_minor": 2
}
